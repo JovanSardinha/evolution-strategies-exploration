{
 "cells": [
  {
   "cell_type": "code",
   "execution_count": 1,
   "metadata": {},
   "outputs": [
    {
     "name": "stderr",
     "output_type": "stream",
     "text": [
      "Using TensorFlow backend.\n"
     ]
    }
   ],
   "source": [
    "# dependencies\n",
    "import numpy as np\n",
    "import matplotlib.pyplot as plt\n",
    "import seaborn as sns\n",
    "\n",
    "from keras.models import Model, Input, Sequential\n",
    "from keras.layers import Dense, Dropout, Flatten, Conv2D, MaxPooling2D\n",
    "from keras.optimizers import Adam # not important as there's no training here.\n",
    "import tensorflow as tf\n",
    "from keras import backend as K\n",
    "\n",
    "%matplotlib inline"
   ]
  },
  {
   "cell_type": "code",
   "execution_count": 2,
   "metadata": {},
   "outputs": [
    {
     "name": "stdout",
     "output_type": "stream",
     "text": [
      "Extracting ../MNIST_data/train-images-idx3-ubyte.gz\n",
      "Extracting ../MNIST_data/train-labels-idx1-ubyte.gz\n",
      "Extracting ../MNIST_data/t10k-images-idx3-ubyte.gz\n",
      "Extracting ../MNIST_data/t10k-labels-idx1-ubyte.gz\n"
     ]
    }
   ],
   "source": [
    "from tensorflow.examples.tutorials.mnist import input_data\n",
    "mnist = input_data.read_data_sets(\"../MNIST_data/\", one_hot=True)"
   ]
  },
  {
   "cell_type": "code",
   "execution_count": 3,
   "metadata": {},
   "outputs": [
    {
     "data": {
      "image/png": "[encoded data removed]",
      "text/plain": [
       "<matplotlib.figure.Figure at 0x115b6c550>"
      ]
     },
     "metadata": {},
     "output_type": "display_data"
    }
   ],
   "source": [
    "plt.imshow(mnist.train.images[2].reshape(28,28))\n",
    "plt.show()"
   ]
  },
  {
   "cell_type": "code",
   "execution_count": 4,
   "metadata": {
    "collapsed": true
   },
   "outputs": [],
   "source": [
    "batch_size = 128\n",
    "num_classes = 10\n",
    "epochs = 12\n",
    "\n",
    "# input image dimensions\n",
    "img_rows, img_cols = 28, 28\n",
    "\n",
    "input_shape = (img_rows, img_cols, 1)"
   ]
  },
  {
   "cell_type": "code",
   "execution_count": 5,
   "metadata": {},
   "outputs": [
    {
     "name": "stdout",
     "output_type": "stream",
     "text": [
      "(55000, 784)\n",
      "(5000, 784)\n",
      "(10000, 784)\n"
     ]
    }
   ],
   "source": [
    "# x_train = mnist.train.images.reshape(-1, img_rows, img_cols, 1)\n",
    "# x_valid = mnist.validation.images.reshape(-1, img_rows, img_cols, 1)\n",
    "# x_test = mnist.test.images.reshape(-1, img_rows, img_cols, 1)\n",
    "\n",
    "x_train = mnist.train.images\n",
    "x_valid = mnist.validation.images\n",
    "x_test = mnist.test.images\n",
    "print(np.shape(x_train))\n",
    "print(np.shape(x_valid))\n",
    "print(np.shape(x_test))"
   ]
  },
  {
   "cell_type": "code",
   "execution_count": 6,
   "metadata": {},
   "outputs": [
    {
     "name": "stdout",
     "output_type": "stream",
     "text": [
      "(55000, 10)\n",
      "(5000, 10)\n",
      "(10000, 10)\n"
     ]
    }
   ],
   "source": [
    "y_train = mnist.train.labels\n",
    "y_valid = mnist.validation.labels\n",
    "y_test = mnist.test.labels\n",
    "print(np.shape(y_train))\n",
    "print(np.shape(y_valid))\n",
    "print(np.shape(y_test))"
   ]
  },
  {
   "cell_type": "code",
   "execution_count": 7,
   "metadata": {},
   "outputs": [],
   "source": [
    "input_layer = Input(shape=(784,))\n",
    "layer_1 = Dense(784)(input_layer)\n",
    "output_layer = Dense(num_classes, activation='softmax')(layer_1)\n",
    "model = Model(input_layer, output_layer)\n",
    "model.compile(Adam(), 'mse', metrics=['accuracy'])\n",
    "\n",
    "\n",
    "\n",
    "# model = Sequential()\n",
    "# model.add(Conv2D(32, kernel_size=(3, 3),\n",
    "#                  activation='relu',\n",
    "#                  input_shape=input_shape))\n",
    "# model.add(Conv2D(64, (3, 3), activation='relu'))\n",
    "# model.add(MaxPooling2D(pool_size=(2, 2)))\n",
    "# model.add(Dropout(0.25))\n",
    "# model.add(Flatten())\n",
    "# model.add(Dense(128, activation='relu'))\n",
    "# model.add(Dropout(0.5))\n",
    "# model.add(Dense(num_classes, activation='softmax'))\n",
    "\n",
    "# model.compile(optimizer= Adam(), loss='mse')\n",
    "\n",
    "\n",
    "\n",
    "# input_layer = Input(shape=(5,1))\n",
    "# layer = Dense(8)(input_layer)\n",
    "# output_layer = Dense(3)(layer)\n",
    "# model = Model(input_layer, output_layer)\n",
    "# model.compile(Adam(), 'mse')"
   ]
  },
  {
   "cell_type": "code",
   "execution_count": 8,
   "metadata": {},
   "outputs": [
    {
     "data": {
      "text/plain": [
       "<tf.Tensor 'input_1:0' shape=(?, 784) dtype=float32>"
      ]
     },
     "execution_count": 8,
     "metadata": {},
     "output_type": "execute_result"
    }
   ],
   "source": [
    "model.input"
   ]
  },
  {
   "cell_type": "code",
   "execution_count": 9,
   "metadata": {
    "scrolled": true
   },
   "outputs": [],
   "source": [
    "# model.fit(x_train, y_train,\n",
    "#           batch_size=batch_size,\n",
    "#           epochs=epochs,\n",
    "#           verbose=1,\n",
    "#           validation_data=(x_test, y_test))"
   ]
  },
  {
   "cell_type": "code",
   "execution_count": 21,
   "metadata": {
    "collapsed": true
   },
   "outputs": [],
   "source": [
    "class EvolutionStrategy(object):\n",
    "\n",
    "    def __init__(self, weights, get_reward_func, population_size=50, sigma=0.1, learning_rate=0.001):\n",
    "        np.random.seed(0)\n",
    "        self.weights = weights\n",
    "        self.get_reward = get_reward_func\n",
    "        self.POPULATION_SIZE = population_size\n",
    "        self.SIGMA = sigma\n",
    "        self.LEARNING_RATE = learning_rate\n",
    "\n",
    "\n",
    "    def _get_weights_try(self, w, p):\n",
    "        weights_try = []\n",
    "        for index, i in enumerate(p):\n",
    "            jittered = self.SIGMA*i\n",
    "            weights_try.append(w[index] + jittered)\n",
    "        return weights_try\n",
    "\n",
    "\n",
    "    def get_weights(self):\n",
    "        return self.weights\n",
    "\n",
    "\n",
    "    def run(self, iterations, print_step=10):\n",
    "        for iteration in range(iterations):\n",
    "\n",
    "            if iteration % print_step == 0:\n",
    "                print('iter %d. reward: %f' % (iteration, self.get_reward(self.weights)))\n",
    "\n",
    "            population = []\n",
    "            rewards = np.zeros(self.POPULATION_SIZE)\n",
    "            for i in range(self.POPULATION_SIZE):\n",
    "                x = []\n",
    "                for w in self.weights:                 \n",
    "                    x.append(np.random.randn(*w.shape))\n",
    "                population.append(x)\n",
    "            \n",
    "            for i in range(self.POPULATION_SIZE):\n",
    "                weights_try = self._get_weights_try(self.weights, population[i])\n",
    "                rewards[i]  = self.get_reward(weights_try)\n",
    "            \n",
    "            rewards = (rewards - np.mean(rewards)) / np.std(rewards)\n",
    "\n",
    "            for index, w in enumerate(self.weights):\n",
    "                A = np.array([p[index] for p in population])\n",
    "                self.weights[index] = w + self.LEARNING_RATE/(self.POPULATION_SIZE*self.SIGMA) * np.dot(A.T, rewards).T"
   ]
  },
  {
   "cell_type": "code",
   "execution_count": 22,
   "metadata": {},
   "outputs": [],
   "source": [
    "def get_reward(weights):\n",
    "    start_index = np.random.choice(y_train.shape[0]-batch_size-1,1)[0]\n",
    "    solution = y_train[start_index:start_index+batch_size]\n",
    "    inp = x_train[start_index:start_index+batch_size]\n",
    "    \n",
    "    model.set_weights(weights)\n",
    "    prediction = model.predict(inp)\n",
    "    #print(prediction)\n",
    "\n",
    "    #accuracy = (np.mean(np.equal(np.argmax(prediction), np.argmax(solution))))\n",
    "    #print('accuracy:', accuracy)\n",
    "\n",
    "    reward = -np.sum(np.square(solution - prediction))\n",
    "    #reward = np.mean(np.equal(np.argmax(prediction), np.argmax(solution)))\n",
    "    return reward\n",
    "\n",
    "# def get_reward(weights):\n",
    "#     solution = np.array([0.5, 0.1, -0.3])\n",
    "#     inp = np.asarray([[1,2,3,4,5]])\n",
    "#     inp = np.expand_dims(inp, -1)\n",
    "    \n",
    "#     model.set_weights(weights)\n",
    "#     prediction = model.predict(inp)[0]\n",
    "#     # here our best reward is zero\n",
    "#     reward = -np.mean(np.square(solution - prediction))\n",
    "#     return reward"
   ]
  },
  {
   "cell_type": "code",
   "execution_count": 23,
   "metadata": {},
   "outputs": [
    {
     "name": "stdout",
     "output_type": "stream",
     "text": [
      "(784, 784)\n",
      "(784,)\n",
      "(784, 10)\n",
      "(10,)\n"
     ]
    }
   ],
   "source": [
    "for i in model.get_weights():\n",
    "    print(i.shape)"
   ]
  },
  {
   "cell_type": "code",
   "execution_count": 24,
   "metadata": {
    "scrolled": true
   },
   "outputs": [
    {
     "name": "stdout",
     "output_type": "stream",
     "text": [
      "iter 0. reward: -117.537794\n",
      "iter 10. reward: -115.959539\n",
      "iter 20. reward: -114.769395\n",
      "iter 30. reward: -115.323557\n",
      "iter 40. reward: -115.024518\n",
      "iter 50. reward: -112.120282\n",
      "iter 60. reward: -111.588756\n",
      "iter 70. reward: -108.683120\n",
      "iter 80. reward: -108.715734\n",
      "iter 90. reward: -106.373435\n",
      "iter 100. reward: -105.847861\n",
      "iter 110. reward: -103.307791\n",
      "iter 120. reward: -98.713469\n",
      "iter 130. reward: -104.438891\n",
      "iter 140. reward: -99.905645\n",
      "iter 150. reward: -97.672412\n",
      "iter 160. reward: -105.081657\n",
      "iter 170. reward: -99.912359\n",
      "iter 180. reward: -101.594007\n",
      "iter 190. reward: -93.135164\n",
      "iter 200. reward: -101.110040\n",
      "iter 210. reward: -97.058952\n",
      "iter 220. reward: -95.576623\n",
      "iter 230. reward: -86.673647\n",
      "iter 240. reward: -87.290171\n",
      "iter 250. reward: -82.205154\n",
      "iter 260. reward: -84.573878\n",
      "iter 270. reward: -78.463883\n",
      "iter 280. reward: -80.094559\n",
      "iter 290. reward: -78.969926\n",
      "iter 300. reward: -87.946822\n",
      "iter 310. reward: -83.135224\n",
      "iter 320. reward: -87.582897\n",
      "iter 330. reward: -81.248430\n",
      "iter 340. reward: -88.923753\n",
      "iter 350. reward: -90.109399\n",
      "iter 360. reward: -71.231614\n",
      "iter 370. reward: -67.388524\n",
      "iter 380. reward: -81.358236\n",
      "iter 390. reward: -77.139197\n",
      "iter 400. reward: -66.175742\n",
      "iter 410. reward: -80.059510\n",
      "iter 420. reward: -69.889351\n",
      "iter 430. reward: -76.772195\n",
      "iter 440. reward: -77.221794\n",
      "iter 450. reward: -66.522627\n",
      "iter 460. reward: -62.100046\n",
      "iter 470. reward: -55.450774\n",
      "iter 480. reward: -80.756631\n",
      "iter 490. reward: -77.420148\n",
      "iter 500. reward: -77.025830\n",
      "iter 510. reward: -70.640157\n",
      "iter 520. reward: -74.691646\n",
      "iter 530. reward: -56.808631\n",
      "iter 540. reward: -68.132114\n",
      "iter 550. reward: -75.145477\n",
      "iter 560. reward: -71.798067\n",
      "iter 570. reward: -61.111757\n",
      "iter 580. reward: -67.297900\n",
      "iter 590. reward: -63.220695\n",
      "iter 600. reward: -65.940992\n",
      "iter 610. reward: -86.103339\n",
      "iter 620. reward: -61.782214\n",
      "iter 630. reward: -59.462222\n",
      "iter 640. reward: -56.726893\n",
      "iter 650. reward: -68.322815\n",
      "iter 660. reward: -67.614993\n",
      "iter 670. reward: -77.087901\n",
      "iter 680. reward: -66.927407\n",
      "iter 690. reward: -65.721663\n",
      "iter 700. reward: -59.291400\n",
      "iter 710. reward: -64.922900\n",
      "iter 720. reward: -55.372060\n",
      "iter 730. reward: -64.985275\n",
      "iter 740. reward: -75.323347\n",
      "iter 750. reward: -52.588733\n",
      "iter 760. reward: -52.591093\n",
      "iter 770. reward: -52.962627\n",
      "iter 780. reward: -63.665128\n",
      "iter 790. reward: -59.180411\n",
      "iter 800. reward: -62.529627\n",
      "iter 810. reward: -57.097334\n",
      "iter 820. reward: -43.777106\n",
      "iter 830. reward: -49.760059\n",
      "iter 840. reward: -57.870267\n",
      "iter 850. reward: -51.616756\n",
      "iter 860. reward: -68.100960\n",
      "iter 870. reward: -60.294446\n",
      "iter 880. reward: -58.202937\n",
      "iter 890. reward: -43.519129\n",
      "iter 900. reward: -50.239248\n",
      "iter 910. reward: -53.728910\n",
      "iter 920. reward: -39.009266\n",
      "iter 930. reward: -50.483725\n",
      "iter 940. reward: -39.079806\n",
      "iter 950. reward: -51.458895\n",
      "iter 960. reward: -39.317648\n",
      "iter 970. reward: -36.735373\n",
      "iter 980. reward: -49.512430\n",
      "iter 990. reward: -62.243283\n"
     ]
    }
   ],
   "source": [
    "es = EvolutionStrategy(model.get_weights(), get_reward, population_size=50, sigma=0.1, learning_rate=0.001)\n",
    "es.run(1000, print_step=10)"
   ]
  },
  {
   "cell_type": "code",
   "execution_count": 26,
   "metadata": {},
   "outputs": [
    {
     "data": {
      "text/plain": [
       "0.38900000000000001"
      ]
     },
     "execution_count": 26,
     "metadata": {},
     "output_type": "execute_result"
    }
   ],
   "source": [
    "# Test set prediction\n",
    "pediction = model.predict(x_valid)\n",
    "solution = y_valid\n",
    "np.mean(np.equal(np.argmax(pediction,1), np.argmax(solution,1)))"
   ]
  },
  {
   "cell_type": "code",
   "execution_count": 15,
   "metadata": {},
   "outputs": [
    {
     "data": {
      "text/plain": [
       "42241"
      ]
     },
     "execution_count": 15,
     "metadata": {},
     "output_type": "execute_result"
    }
   ],
   "source": [
    "start_index = np.random.choice(y_train.shape[0]-batch_size,1)[0]\n",
    "start_index"
   ]
  },
  {
   "cell_type": "code",
   "execution_count": 16,
   "metadata": {},
   "outputs": [
    {
     "data": {
      "text/plain": [
       "42240"
      ]
     },
     "execution_count": 16,
     "metadata": {},
     "output_type": "execute_result"
    }
   ],
   "source": [
    "start_index-1"
   ]
  },
  {
   "cell_type": "code",
   "execution_count": 19,
   "metadata": {},
   "outputs": [
    {
     "data": {
      "text/plain": [
       "array([[ 0.,  0.,  0., ...,  1.,  0.,  0.],\n",
       "       [ 0.,  1.,  0., ...,  0.,  0.,  0.],\n",
       "       [ 0.,  0.,  0., ...,  0.,  0.,  0.],\n",
       "       ..., \n",
       "       [ 0.,  0.,  0., ...,  0.,  0.,  0.],\n",
       "       [ 0.,  0.,  0., ...,  0.,  0.,  0.],\n",
       "       [ 0.,  0.,  0., ...,  0.,  0.,  0.]])"
      ]
     },
     "execution_count": 19,
     "metadata": {},
     "output_type": "execute_result"
    }
   ],
   "source": [
    "y_train[54871:54871+batch_size]"
   ]
  },
  {
   "cell_type": "code",
   "execution_count": 18,
   "metadata": {},
   "outputs": [
    {
     "data": {
      "text/plain": [
       "54871"
      ]
     },
     "execution_count": 18,
     "metadata": {},
     "output_type": "execute_result"
    }
   ],
   "source": [
    "y_train.shape[0]-batch_size-1"
   ]
  },
  {
   "cell_type": "code",
   "execution_count": null,
   "metadata": {
    "collapsed": true
   },
   "outputs": [],
   "source": []
  }
 ],
 "metadata": {
  "kernelspec": {
   "display_name": "Python 3",
   "language": "python",
   "name": "python3"
  },
  "language_info": {
   "codemirror_mode": {
    "name": "ipython",
    "version": 3
   },
   "file_extension": ".py",
   "mimetype": "text/x-python",
   "name": "python",
   "nbconvert_exporter": "python",
   "pygments_lexer": "ipython3",
   "version": "3.5.1"
  }
 },
 "nbformat": 4,
 "nbformat_minor": 2
}
