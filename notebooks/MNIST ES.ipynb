{
 "cells": [
  {
   "cell_type": "code",
   "execution_count": 1,
   "metadata": {},
   "outputs": [
    {
     "name": "stderr",
     "output_type": "stream",
     "text": [
      "Using TensorFlow backend.\n"
     ]
    }
   ],
   "source": [
    "# dependencies\n",
    "import numpy as np\n",
    "import matplotlib.pyplot as plt\n",
    "import seaborn as sns\n",
    "\n",
    "from keras.models import Model, Input, Sequential\n",
    "from keras.layers import Dense, Dropout, Flatten, Conv2D, MaxPooling2D\n",
    "from keras.optimizers import Adam # not important as there's no training here.\n",
    "import tensorflow as tf\n",
    "from keras import backend as K\n",
    "\n",
    "%matplotlib inline"
   ]
  },
  {
   "cell_type": "code",
   "execution_count": 2,
   "metadata": {},
   "outputs": [
    {
     "name": "stdout",
     "output_type": "stream",
     "text": [
      "Extracting ../MNIST_data/train-images-idx3-ubyte.gz\n",
      "Extracting ../MNIST_data/train-labels-idx1-ubyte.gz\n",
      "Extracting ../MNIST_data/t10k-images-idx3-ubyte.gz\n",
      "Extracting ../MNIST_data/t10k-labels-idx1-ubyte.gz\n"
     ]
    }
   ],
   "source": [
    "from tensorflow.examples.tutorials.mnist import input_data\n",
    "mnist = input_data.read_data_sets(\"../MNIST_data/\", one_hot=True)"
   ]
  },
  {
   "cell_type": "code",
   "execution_count": 3,
   "metadata": {},
   "outputs": [
    {
     "data": {
      "image/png": "[encoded data removed]",
      "text/plain": [
       "<matplotlib.figure.Figure at 0x116ee34a8>"
      ]
     },
     "metadata": {},
     "output_type": "display_data"
    }
   ],
   "source": [
    "plt.imshow(mnist.train.images[2].reshape(28,28))\n",
    "plt.show()"
   ]
  },
  {
   "cell_type": "code",
   "execution_count": 82,
   "metadata": {
    "collapsed": true
   },
   "outputs": [],
   "source": [
    "batch_size = 128\n",
    "num_classes = 10\n",
    "epochs = 12\n",
    "\n",
    "# input image dimensions\n",
    "img_rows, img_cols = 28, 28\n",
    "\n",
    "input_shape = (img_rows, img_cols, 1)"
   ]
  },
  {
   "cell_type": "code",
   "execution_count": 83,
   "metadata": {},
   "outputs": [
    {
     "name": "stdout",
     "output_type": "stream",
     "text": [
      "(55000, 28, 28, 1)\n",
      "(5000, 28, 28, 1)\n",
      "(10000, 28, 28, 1)\n"
     ]
    }
   ],
   "source": [
    "x_train = mnist.train.images.reshape(-1, img_rows, img_cols, 1)\n",
    "x_valid = mnist.validation.images.reshape(-1, img_rows, img_cols, 1)\n",
    "x_test = mnist.test.images.reshape(-1, img_rows, img_cols, 1)\n",
    "print(np.shape(x_train))\n",
    "print(np.shape(x_valid))\n",
    "print(np.shape(x_test))"
   ]
  },
  {
   "cell_type": "code",
   "execution_count": 84,
   "metadata": {},
   "outputs": [
    {
     "name": "stdout",
     "output_type": "stream",
     "text": [
      "(55000, 10)\n",
      "(5000, 10)\n",
      "(10000, 10)\n"
     ]
    }
   ],
   "source": [
    "y_train = mnist.train.labels\n",
    "y_valid = mnist.validation.labels\n",
    "y_test = mnist.test.labels\n",
    "print(np.shape(y_train))\n",
    "print(np.shape(y_valid))\n",
    "print(np.shape(y_test))"
   ]
  },
  {
   "cell_type": "code",
   "execution_count": null,
   "metadata": {},
   "outputs": [],
   "source": [
    "model = Sequential()\n",
    "model.add(Conv2D(32, kernel_size=(3, 3),\n",
    "                 activation='relu',\n",
    "                 input_shape=input_shape))\n",
    "model.add(Conv2D(64, (3, 3), activation='relu'))\n",
    "model.add(MaxPooling2D(pool_size=(2, 2)))\n",
    "model.add(Dropout(0.25))\n",
    "model.add(Flatten())\n",
    "model.add(Dense(128, activation='relu'))\n",
    "model.add(Dropout(0.5))\n",
    "model.add(Dense(num_classes, activation='softmax'))\n",
    "\n",
    "model.compile(optimizer= Adam(), loss='mse')"
   ]
  },
  {
   "cell_type": "code",
   "execution_count": 86,
   "metadata": {
    "collapsed": true
   },
   "outputs": [],
   "source": [
    "class EvolutionStrategy(object):\n",
    "\n",
    "    def __init__(self, weights, get_reward_func, population_size=50, sigma=0.1, learning_rate=0.001):\n",
    "        np.random.seed(0)\n",
    "        self.weights = weights\n",
    "        self.get_reward = get_reward_func\n",
    "        self.POPULATION_SIZE = population_size\n",
    "        self.SIGMA = sigma\n",
    "        self.LEARNING_RATE = learning_rate\n",
    "\n",
    "\n",
    "    def _get_weights_try(self, w, p):\n",
    "        weights_try = []\n",
    "        for index, i in enumerate(p):\n",
    "            jittered = self.SIGMA*i\n",
    "            weights_try.append(w[index] + jittered)\n",
    "        return weights_try\n",
    "\n",
    "\n",
    "    def get_weights(self):\n",
    "        return self.weights\n",
    "\n",
    "\n",
    "    def run(self, iterations, print_step=10):\n",
    "        for iteration in range(iterations):\n",
    "\n",
    "            if iteration % print_step == 0:\n",
    "                print('iter %d. reward: %f' % (iteration, self.get_reward(self.weights)))\n",
    "\n",
    "            population = []\n",
    "            rewards = np.zeros(self.POPULATION_SIZE)\n",
    "            for i in range(self.POPULATION_SIZE):\n",
    "                x = []\n",
    "                for w in self.weights:                 \n",
    "                    x.append(np.random.randn(*w.shape))\n",
    "                population.append(x)\n",
    "\n",
    "            for i in range(self.POPULATION_SIZE):\n",
    "                weights_try = self._get_weights_try(self.weights, population[i])\n",
    "                rewards[i] = self.get_reward(weights_try)\n",
    "            \n",
    "            rewards = (rewards - np.mean(rewards)) / np.std(rewards)\n",
    "\n",
    "            for index, w in enumerate(self.weights):\n",
    "                A = np.array([p[index] for p in population])\n",
    "                self.weights[index] = w + self.LEARNING_RATE/(self.POPULATION_SIZE*self.SIGMA) * np.dot(A.T, rewards).T"
   ]
  },
  {
   "cell_type": "code",
   "execution_count": 87,
   "metadata": {
    "collapsed": true
   },
   "outputs": [],
   "source": [
    "def get_reward(weights):\n",
    "    start_index = 6169 #np.random.choice(y_train.shape[0]-batch_size,1)[0]-1\n",
    "    solution = y_train[start_index:start_index+batch_size]\n",
    "    inp = x_train[start_index:start_index+batch_size]\n",
    "    \n",
    "    model.set_weights(weights)\n",
    "    prediction = model.predict(inp)[0]\n",
    "    # here our best reward is zero\n",
    "    reward = -np.sum(np.square(solution - prediction))\n",
    "    return reward"
   ]
  },
  {
   "cell_type": "code",
   "execution_count": 93,
   "metadata": {
    "scrolled": true
   },
   "outputs": [
    {
     "name": "stdout",
     "output_type": "stream",
     "text": [
      "iter 0. reward: -121.747562\n",
      "iter 1. reward: -121.881350\n",
      "iter 2. reward: -121.801437\n",
      "iter 3. reward: -121.852090\n",
      "iter 4. reward: -121.711389\n",
      "iter 5. reward: -121.892195\n",
      "iter 6. reward: -121.398250\n",
      "iter 7. reward: -121.723129\n",
      "iter 8. reward: -121.801441\n",
      "iter 9. reward: -121.857191\n"
     ]
    }
   ],
   "source": [
    "es = EvolutionStrategy(model.get_weights(), get_reward, population_size=50, sigma=0.1, learning_rate=0.001)\n",
    "es.run(10, print_step=1)"
   ]
  },
  {
   "cell_type": "code",
   "execution_count": null,
   "metadata": {
    "collapsed": true
   },
   "outputs": [],
   "source": []
  }
 ],
 "metadata": {
  "kernelspec": {
   "display_name": "Python 3",
   "language": "python",
   "name": "python3"
  },
  "language_info": {
   "codemirror_mode": {
    "name": "ipython",
    "version": 3
   },
   "file_extension": ".py",
   "mimetype": "text/x-python",
   "name": "python",
   "nbconvert_exporter": "python",
   "pygments_lexer": "ipython3",
   "version": "3.5.1"
  }
 },
 "nbformat": 4,
 "nbformat_minor": 2
}
